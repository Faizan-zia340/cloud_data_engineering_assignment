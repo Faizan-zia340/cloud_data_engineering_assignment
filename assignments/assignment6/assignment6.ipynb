{
 "cells": [
  {
   "cell_type": "markdown",
   "id": "89075101-72dd-4a4c-b2ba-bde95714a810",
   "metadata": {},
   "source": [
    "## Sat, Aug 23, 2025"
   ]
  },
  {
   "cell_type": "markdown",
   "id": "c40c2e3c-ea76-4ecf-9f40-02d77ccdf9d9",
   "metadata": {},
   "source": [
    "# Assignment-6 :"
   ]
  },
  {
   "cell_type": "markdown",
   "id": "b32445a1-0d88-4d4c-8157-915d467d0fbb",
   "metadata": {},
   "source": [
    "1. Write a Python program to create a class representing a Circle. Include methods to calculate its area and perimeter"
   ]
  },
  {
   "cell_type": "code",
   "execution_count": 5,
   "id": "6568f8a3-8fde-4197-9a7e-ac4b4a1cb50d",
   "metadata": {},
   "outputs": [
    {
     "name": "stdin",
     "output_type": "stream",
     "text": [
      "Enter radius of circle:  66\n"
     ]
    },
    {
     "name": "stdout",
     "output_type": "stream",
     "text": [
      "Area of Circle: 13684.77759903714\n",
      "Perimeter of Circle: 414.6902302738527\n"
     ]
    }
   ],
   "source": [
    "import math\n",
    "\n",
    "class Circle:\n",
    "    def __init__(self, radius):\n",
    "        self.radius = radius\n",
    "\n",
    "    def area(self):\n",
    "        return math.pi * self.radius ** 2\n",
    "\n",
    "    def perimeter(self):\n",
    "        return 2 * math.pi * self.radius\n",
    "\n",
    "\n",
    "\n",
    "r = float(input(\"Enter radius of circle: \"))\n",
    "c = Circle(r)\n",
    "print(\"Area of Circle:\", c.area())\n",
    "print(\"Perimeter of Circle:\", c.perimeter())\n"
   ]
  },
  {
   "cell_type": "markdown",
   "id": "d7929e55-7e22-44c5-874c-90053d6e97f5",
   "metadata": {},
   "source": [
    "2. Write a Python program to create a person class. Include attributes like name, country and date of birth. Implement a method to determine the person's age."
   ]
  },
  {
   "cell_type": "code",
   "execution_count": null,
   "id": "88a2007b-5e01-4581-95d9-e7a4566b66dd",
   "metadata": {},
   "outputs": [],
   "source": [
    "from datetime import date\n",
    "\n",
    "class Person:\n",
    "    def __init__(self, name, country, dob):\n",
    "        self.name = name\n",
    "        self.country = country\n",
    "        self.dob = dob  # dob format: yyyy-mm-dd\n",
    "\n",
    "    def age(self):\n",
    "        today = date.today()\n",
    "        dob_date = date.fromisoformat(self.dob)\n",
    "        age = today.year - dob_date.year - ((today.month, today.day) < (dob_date.month, dob_date.day))\n",
    "        return age\n",
    "\n",
    "\n",
    "# Example\n",
    "p1 = Person(\"Faizan\", \"Pakistan\", \"2002-05-12\")\n",
    "print(\"Name:\", p1.name)\n",
    "print(\"Country:\", p1.country)\n",
    "print(\"Age:\", p1.age(), \"years\")\n"
   ]
  }
 ],
 "metadata": {
  "kernelspec": {
   "display_name": "Python 3 (ipykernel)",
   "language": "python",
   "name": "python3"
  },
  "language_info": {
   "codemirror_mode": {
    "name": "ipython",
    "version": 3
   },
   "file_extension": ".py",
   "mimetype": "text/x-python",
   "name": "python",
   "nbconvert_exporter": "python",
   "pygments_lexer": "ipython3",
   "version": "3.13.5"
  }
 },
 "nbformat": 4,
 "nbformat_minor": 5
}
