{
 "cells": [
  {
   "cell_type": "markdown",
   "id": "82570d71-df49-47f8-aed3-4cc8f28889ad",
   "metadata": {},
   "source": [
    "##\tSat, Aug 23, 2025"
   ]
  },
  {
   "cell_type": "markdown",
   "id": "a28fa5be-0a08-4c95-99d1-3b1bd499f4ea",
   "metadata": {},
   "source": [
    "#                                           Assignment-1 :"
   ]
  },
  {
   "cell_type": "markdown",
   "id": "b913bb10-6204-40ad-9b89-6a2370fe86c7",
   "metadata": {},
   "source": [
    "#  Part -1 Python Basics (Variables)"
   ]
  },
  {
   "cell_type": "markdown",
   "id": "5b7423da-3b28-4d80-a46f-64fbdf90b25f",
   "metadata": {},
   "source": [
    "1.  Print Your Name with your Father name and Date of birth using suitable escape sequence charactor"
   ]
  },
  {
   "cell_type": "code",
   "execution_count": 10,
   "id": "3b43120f-7b5f-4f40-a171-6cded3ec4167",
   "metadata": {},
   "outputs": [
    {
     "name": "stdout",
     "output_type": "stream",
     "text": [
      "Name:\t\t Muhammad Faizan Zia\n",
      "Father Name:\t  Mr. Zia-ud-din\n",
      "Date of Birth:\t  25-04-2003\n"
     ]
    }
   ],
   "source": [
    "print(\"Name:\\t\\t Muhammad Faizan Zia\\nFather Name:\\t  Mr. Zia-ud-din\\nDate of Birth:\\t  25-04-2003\") # here \\n use for next  line and \\t use for extra space\n"
   ]
  },
  {
   "cell_type": "markdown",
   "id": "4308b846-331c-4e60-88cf-d0cf2b6d5359",
   "metadata": {},
   "source": [
    "2 . Write  your small bio using variables and print it using print function"
   ]
  },
  {
   "cell_type": "code",
   "execution_count": 11,
   "id": "785259e0-f27f-44a2-8553-01e1141a4d99",
   "metadata": {},
   "outputs": [
    {
     "name": "stdout",
     "output_type": "stream",
     "text": [
      "My Name:\t Faizan Zia\n",
      "Father Name:\t Mr. Zia-ud-din\n",
      "Date of Birth:\t 25-04-2003\n",
      "Qualification:\t undergraduate of BSCS\n",
      "Hobby:\t\t Coding and Web Development\n",
      "City:\t\t Karachi\n"
     ]
    }
   ],
   "source": [
    "\n",
    "name = \"Faizan Zia\"\n",
    "father_name = \"Mr. Zia-ud-din\"\n",
    "dob = \"25-04-2003\"\n",
    "Qualification = \"undergraduate of BSCS\"\n",
    "hobby = \"Coding and Web Development\"\n",
    "city = \"Karachi\"\n",
    "\n",
    "print(\"My Name:\\t\", name)\n",
    "print(\"Father Name:\\t\", father_name)\n",
    "print(\"Date of Birth:\\t\", dob)\n",
    "print(\"Qualification:\\t\", Qualification)\n",
    "print(\"Hobby:\\t\\t\", hobby)\n",
    "print(\"City:\\t\\t\", city)\n"
   ]
  },
  {
   "cell_type": "markdown",
   "id": "eb6cd633-50df-4760-b835-f0bbd57a32fe",
   "metadata": {},
   "source": [
    "3.  Write a program in which use all the operators we can use in Python"
   ]
  },
  {
   "cell_type": "code",
   "execution_count": 20,
   "id": "240ce823-3c6c-419a-9b3c-45ccacc5a3fe",
   "metadata": {},
   "outputs": [
    {
     "name": "stdout",
     "output_type": "stream",
     "text": [
      "Arithmetic Operators:\n",
      "13\n",
      "7\n",
      "30\n",
      "3.3333333333333335\n",
      "1\n",
      "1000\n",
      "3\n",
      "\n",
      "Comparison Operators:\n",
      "False\n",
      "True\n",
      "True\n",
      "False\n",
      "True\n",
      "False\n",
      "\n",
      "Logical Operators:\n",
      "False\n",
      "True\n",
      "False\n",
      "\n",
      "Bitwise Operators:\n",
      "2\n",
      "11\n",
      "-11\n",
      "\n",
      "Assignment Operators:\n",
      "7\n",
      "6\n",
      "12\n",
      "6\n",
      "\n",
      "Identity Operators:\n",
      "True\n",
      "False\n",
      "True\n",
      "\n",
      "Membership Operators:\n",
      "True\n",
      "True\n"
     ]
    }
   ],
   "source": [
    "# all Operators\n",
    "\n",
    "a = 10\n",
    "b = 3\n",
    "\n",
    "# Arithmetic Operators\n",
    "print(\"Arithmetic Operators:\")\n",
    "print(a + b)   \n",
    "print(a - b)   \n",
    "print(a * b)  \n",
    "print(a / b)   \n",
    "print(a % b)   \n",
    "print(a ** b)  \n",
    "print(a // b)  \n",
    "\n",
    "# Comparison Operators\n",
    "print(\"\\nComparison Operators:\")\n",
    "print(a == b)  \n",
    "print(a != b)  \n",
    "print(a > b)   \n",
    "print(a < b)   \n",
    "print(a >= b)  \n",
    "print(a <= b)  \n",
    "\n",
    "# Logical Operators\n",
    "print(\"\\nLogical Operators:\")\n",
    "print(True and False)\n",
    "print(True or False)\n",
    "print(not True)\n",
    "\n",
    "# Bitwise Operators\n",
    "print(\"\\nBitwise Operators:\")\n",
    "print(a & b)   # AND\n",
    "print(a | b)   # OR\n",
    "print(~a)      # NOT\n",
    "\n",
    "# Assignment Operators\n",
    "print(\"\\nAssignment Operators:\")\n",
    "c = 5\n",
    "c += 2\n",
    "print(c)\n",
    "c -= 1\n",
    "print(c)\n",
    "c *= 2\n",
    "print(c)\n",
    "c //= 2\n",
    "print(c)\n",
    "\n",
    "# Identity Operators\n",
    "print(\"\\nIdentity Operators:\")\n",
    "x = [1,2,3]\n",
    "y = x\n",
    "z = [1,2,3]\n",
    "print(x is y)\n",
    "print(x is z)\n",
    "print(x is not z)\n",
    "\n",
    "# Membership Operators\n",
    "print(\"\\nMembership Operators:\")\n",
    "print(2 in x)\n",
    "print(5 not in x)\n"
   ]
  },
  {
   "cell_type": "markdown",
   "id": "34d0822a-634c-468f-b4f5-71d0bc968ca1",
   "metadata": {},
   "source": [
    "4.Completes the following steps of small task:\n",
    "- Mention Marks of English , Islamiat and Maths out of 100 in 3 different variables\n",
    "- Mention Variable of Total Marks and assign 300 to it\n",
    "- Calculate Percentage"
   ]
  },
  {
   "cell_type": "code",
   "execution_count": 13,
   "id": "4d72cf49-16e3-4fcf-8147-5c225843e268",
   "metadata": {},
   "outputs": [
    {
     "name": "stdout",
     "output_type": "stream",
     "text": [
      "English: 85\n",
      "Islamiat: 90\n",
      "Maths: 95\n",
      "Obtained Marks: 270\n",
      "Total Marks: 300\n",
      "Percentage: 90.0 %\n"
     ]
    }
   ],
   "source": [
    "\n",
    "english = 85\n",
    "islamiat = 90\n",
    "maths = 95\n",
    "\n",
    "total_marks = 300\n",
    "\n",
    "\n",
    "obtained = english + islamiat + maths\n",
    "percentage = (obtained / total_marks) * 100\n",
    "\n",
    "\n",
    "print(\"English:\", english)\n",
    "print(\"Islamiat:\", islamiat)\n",
    "print(\"Maths:\", maths)\n",
    "print(\"Obtained Marks:\", obtained)\n",
    "print(\"Total Marks:\", total_marks)\n",
    "print(\"Percentage:\", percentage, \"%\")\n"
   ]
  },
  {
   "cell_type": "markdown",
   "id": "7b965364-9ea8-40ae-8b01-6e76fe0e21c5",
   "metadata": {},
   "source": [
    "# Part -2 Python Basics (Conditional Statements)"
   ]
  },
  {
   "cell_type": "markdown",
   "id": "e980343b-6710-49b3-8814-be7f57170db5",
   "metadata": {},
   "source": [
    "1. A company decided to give bonus of 5% to employee if his/her year of service is more than 5 years. Ask user for their salary and year of service and print the net bonus amount."
   ]
  },
  {
   "cell_type": "code",
   "execution_count": 22,
   "id": "ae54738d-c473-4217-b2ea-969e3db40cb8",
   "metadata": {},
   "outputs": [
    {
     "name": "stdin",
     "output_type": "stream",
     "text": [
      "Enter your salary:  4500000\n",
      "Enter your years of service:  6\n"
     ]
    },
    {
     "name": "stdout",
     "output_type": "stream",
     "text": [
      "Your Bonus is: 225000.0\n"
     ]
    }
   ],
   "source": [
    "\n",
    "salary = int(input(\"Enter your salary: \"))\n",
    "years = int(input(\"Enter your years of service: \"))\n",
    "\n",
    "\n",
    "\n",
    "if years > 5:\n",
    "    bonus = salary * 5 / 100\n",
    "    print(\"Your Bonus is:\", bonus)\n",
    "else:\n",
    "    print(\"No Bonus\")"
   ]
  },
  {
   "cell_type": "markdown",
   "id": "9f8c9ebd-c0dc-4d22-b649-16e2b01f5141",
   "metadata": {},
   "source": [
    "2. Write a program to check whether a person is eligible for voting or not. (accept age from user) if age is greater than 17 eligible otherwise not eligible"
   ]
  },
  {
   "cell_type": "code",
   "execution_count": 23,
   "id": "a53d15bf-ce95-4147-9ee1-ab8af3c0bf62",
   "metadata": {},
   "outputs": [
    {
     "name": "stdin",
     "output_type": "stream",
     "text": [
      "Enter your age:  20\n"
     ]
    },
    {
     "name": "stdout",
     "output_type": "stream",
     "text": [
      "You are eligible for voting\n"
     ]
    }
   ],
   "source": [
    "\n",
    "age = int(input(\"Enter your age: \"))\n",
    "\n",
    "\n",
    "if age > 17:\n",
    "    print(\"You are eligible for voting\")\n",
    "else:\n",
    "    print(\"You are not eligible for voting\")\n"
   ]
  },
  {
   "cell_type": "markdown",
   "id": "f5b2395c-3d0e-4c0f-bc8a-bbe1e7bd8fa7",
   "metadata": {},
   "source": [
    "3. Write a program to check whether a number entered by user is even or odd."
   ]
  },
  {
   "cell_type": "code",
   "execution_count": 27,
   "id": "4c42e625-d935-466f-9c1d-fb759aca3122",
   "metadata": {},
   "outputs": [
    {
     "name": "stdin",
     "output_type": "stream",
     "text": [
      "Enter a number:  6\n"
     ]
    },
    {
     "name": "stdout",
     "output_type": "stream",
     "text": [
      "The number is Even\n"
     ]
    }
   ],
   "source": [
    "\n",
    "num = int(input(\"Enter a number: \"))\n",
    "\n",
    "\n",
    "if num % 2 == 0:\n",
    "    print(\"The number is Even\")\n",
    "else:\n",
    "    print(\"The number is Odd\")\n"
   ]
  },
  {
   "cell_type": "markdown",
   "id": "f76efcf5-b960-4c9f-a358-bfe7856a55d4",
   "metadata": {},
   "source": [
    "4. Write a program to check whether a number is divisible by 7 or not. Show Answer"
   ]
  },
  {
   "cell_type": "code",
   "execution_count": 29,
   "id": "a494b68a-c8a1-4355-9ab7-6a3645438545",
   "metadata": {},
   "outputs": [
    {
     "name": "stdin",
     "output_type": "stream",
     "text": [
      "Enter a number:  35\n"
     ]
    },
    {
     "name": "stdout",
     "output_type": "stream",
     "text": [
      "The number is divisible by 7\n"
     ]
    }
   ],
   "source": [
    "\n",
    "num = int(input(\"Enter a number: \"))\n",
    "\n",
    "\n",
    "if num % 7 == 0:\n",
    "    print(\"The number is divisible by 7\")\n",
    "else:\n",
    "    print(\"The number is not divisible by 7\")\n"
   ]
  },
  {
   "cell_type": "markdown",
   "id": "3246eed4-85b9-4943-8839-8371cc9cf03e",
   "metadata": {},
   "source": [
    "5 .Write a program to display \"Hello\" if a number entered by user is a multiple of five , otherwise print \"Bye\"."
   ]
  },
  {
   "cell_type": "code",
   "execution_count": 31,
   "id": "e6b82939-b355-4e00-90bf-fcfaf35ea60a",
   "metadata": {},
   "outputs": [
    {
     "name": "stdin",
     "output_type": "stream",
     "text": [
      "Enter a number:  5\n"
     ]
    },
    {
     "name": "stdout",
     "output_type": "stream",
     "text": [
      "Hello\n"
     ]
    }
   ],
   "source": [
    "\n",
    "num = int(input(\"Enter a number: \"))\n",
    "\n",
    "\n",
    "if num % 5 == 0:\n",
    "    print(\"Hello\")\n",
    "else:\n",
    "    print(\"Bye\")\n",
    "\n",
    "\n",
    "\n"
   ]
  },
  {
   "cell_type": "markdown",
   "id": "83d6f865-7b67-4a7e-a2e5-bb62200423b6",
   "metadata": {},
   "source": [
    "6. Write a program to display the last digit of a number."
   ]
  },
  {
   "cell_type": "code",
   "execution_count": 34,
   "id": "fdf4651a-3f11-4dc1-b74d-0715da4c9d70",
   "metadata": {},
   "outputs": [
    {
     "name": "stdin",
     "output_type": "stream",
     "text": [
      "Enter a number:  554\n"
     ]
    },
    {
     "name": "stdout",
     "output_type": "stream",
     "text": [
      "Last digit of the number is: 4\n"
     ]
    }
   ],
   "source": [
    "\n",
    "num = int(input(\"Enter a number: \"))\n",
    "\n",
    "last_digit = num % 10\n",
    "\n",
    "print(\"Last digit of the number is:\", last_digit)\n"
   ]
  },
  {
   "cell_type": "markdown",
   "id": "e78d4c27-50f5-4055-842c-ce912949aa05",
   "metadata": {},
   "source": [
    "7. Take values of length and breadth of a rectangle from user and print if it is square or rectangle."
   ]
  },
  {
   "cell_type": "code",
   "execution_count": 36,
   "id": "9246d974-39c0-46cb-b508-f86daba8389a",
   "metadata": {},
   "outputs": [
    {
     "name": "stdin",
     "output_type": "stream",
     "text": [
      "Enter length:  3\n",
      "Enter breadth:  3\n"
     ]
    },
    {
     "name": "stdout",
     "output_type": "stream",
     "text": [
      "It is a Square\n"
     ]
    }
   ],
   "source": [
    "\n",
    "length = int(input(\"Enter length: \"))\n",
    "breadth = int(input(\"Enter breadth: \"))\n",
    "\n",
    "if length == breadth:\n",
    "    print(\"It is a Square\")\n",
    "else:\n",
    "    print(\"It is a Rectangle\")\n"
   ]
  },
  {
   "cell_type": "markdown",
   "id": "587bc390-8809-4173-a010-fcd9ea9a2538",
   "metadata": {},
   "source": [
    "8. Take two int values from user and print greatest among them."
   ]
  },
  {
   "cell_type": "code",
   "execution_count": 37,
   "id": "8c708f63-c2ae-4a25-a8e9-730b60021f98",
   "metadata": {},
   "outputs": [
    {
     "name": "stdin",
     "output_type": "stream",
     "text": [
      "Enter first number:  5\n",
      "Enter second number:  6\n"
     ]
    },
    {
     "name": "stdout",
     "output_type": "stream",
     "text": [
      "Greatest number is: 6\n"
     ]
    }
   ],
   "source": [
    "\n",
    "num1 = int(input(\"Enter first number: \"))\n",
    "num2 = int(input(\"Enter second number: \"))\n",
    "\n",
    "\n",
    "if num1 > num2:\n",
    "    print(\"Greatest number is:\", num1)\n",
    "elif num2 > num1:\n",
    "    print(\"Greatest number is:\", num2)\n",
    "else:\n",
    "    print(\"Both numbers are equal\")\n"
   ]
  },
  {
   "cell_type": "markdown",
   "id": "abcd2f73-9a41-4d4f-a570-785c289d41a4",
   "metadata": {},
   "source": [
    "9. A shop will give discount of 10% if the cost of purchased quantity is more than 1000. Ask user for quantity Suppose, one unit will cost 100. Judge and print total cost for user."
   ]
  },
  {
   "cell_type": "code",
   "execution_count": 38,
   "id": "5f0e9edc-17ab-4de7-bc52-0bba44791b91",
   "metadata": {},
   "outputs": [
    {
     "name": "stdin",
     "output_type": "stream",
     "text": [
      "Enter quantity:  55\n"
     ]
    },
    {
     "name": "stdout",
     "output_type": "stream",
     "text": [
      "You got 10% discount!\n",
      "Total cost is: 4950.0\n"
     ]
    }
   ],
   "source": [
    "\n",
    "quantity = int(input(\"Enter quantity: \"))\n",
    "\n",
    "\n",
    "price_per_unit = 100\n",
    "\n",
    "\n",
    "total_cost = quantity * price_per_unit\n",
    "\n",
    "\n",
    "if total_cost > 1000:\n",
    "    discount = total_cost * 0.10\n",
    "    total_cost -= discount\n",
    "    print(\"You got 10% discount!\")\n",
    "    \n",
    "print(\"Total cost is:\", total_cost)\n"
   ]
  },
  {
   "cell_type": "markdown",
   "id": "491985e4-80f1-42b7-bd53-1edc8a3f7973",
   "metadata": {},
   "source": [
    "10. A school has following rules for grading system:\n",
    "a. Below 25 - F\n",
    "\n",
    "b. 25 to 45 - E\n",
    "\n",
    "c. 45 to 50 - D\n",
    "\n",
    "d. 50 to 60 - C\n",
    "\n",
    "e. 60 to 80 - B\n",
    "\n",
    "f. Above 80 - A\n",
    "\n",
    "Ask user to enter marks and print the corresponding grade."
   ]
  },
  {
   "cell_type": "code",
   "execution_count": 45,
   "id": "377f0131-b60b-4ffb-897b-29a21aca37b7",
   "metadata": {},
   "outputs": [
    {
     "name": "stdin",
     "output_type": "stream",
     "text": [
      "Enter marks:  92\n"
     ]
    },
    {
     "name": "stdout",
     "output_type": "stream",
     "text": [
      "Your Grade is: A\n"
     ]
    }
   ],
   "source": [
    "\n",
    "marks = int(input(\"Enter marks: \"))\n",
    "\n",
    "\n",
    "if marks < 25:\n",
    "    grade = \"F\"\n",
    "elif marks < 45:\n",
    "    grade = \"E\"\n",
    "elif marks < 50:\n",
    "    grade = \"D\"\n",
    "elif marks < 60:\n",
    "    grade = \"C\"\n",
    "elif marks < 80:\n",
    "    grade = \"B\"\n",
    "else:\n",
    "    grade = \"A\"\n",
    "print(\"Your Grade is:\", grade)\n"
   ]
  },
  {
   "cell_type": "markdown",
   "id": "456b4ae6-6fd8-4513-b11b-22b7433754ba",
   "metadata": {},
   "source": [
    "11. A student will not be allowed to sit in exam if his/her attendence is less than 75%.\n",
    "\n",
    "Take following input from user\n",
    "\n",
    "- Number of classes held\n",
    "\n",
    "- Number of classes attended.\n",
    "\n",
    "And print\n",
    "\n",
    "- percentage of class attended\n",
    "\n",
    "- Is student is allowed to sit in exam or not."
   ]
  },
  {
   "cell_type": "code",
   "execution_count": 47,
   "id": "9f3730cf-a926-42db-bf6f-563e4a4ad288",
   "metadata": {},
   "outputs": [
    {
     "name": "stdin",
     "output_type": "stream",
     "text": [
      "Enter number of classes held:  10\n",
      "Enter number of classes attended:  8\n"
     ]
    },
    {
     "name": "stdout",
     "output_type": "stream",
     "text": [
      "Attendance Percentage: 80.0 %\n",
      "Student is allowed to sit in the exam \n"
     ]
    }
   ],
   "source": [
    "\n",
    "classes_held = int(input(\"Enter number of classes held: \"))\n",
    "classes_attended = int(input(\"Enter number of classes attended: \"))\n",
    "\n",
    "\n",
    "attendance_percentage = (classes_attended / classes_held) * 100\n",
    "\n",
    "print(\"Attendance Percentage:\", attendance_percentage, \"%\")\n",
    "\n",
    "\n",
    "if attendance_percentage >= 75:\n",
    "    print(\"Student is allowed to sit in the exam \")\n",
    "else:\n",
    "    print(\"Student is NOT allowed to sit in the exam \")\n"
   ]
  },
  {
   "cell_type": "markdown",
   "id": "27ff22e8-8e07-41c2-af33-1e7729b9c816",
   "metadata": {},
   "source": [
    "12. Modify the above question to allow student to sit if he/she has medical cause. Ask user if he/she has medical cause or not ( 'Y' or 'N' ) and print accordingly."
   ]
  },
  {
   "cell_type": "code",
   "execution_count": 51,
   "id": "319de246-5872-40ff-b382-6fdd3e2ce5c4",
   "metadata": {},
   "outputs": [
    {
     "name": "stdin",
     "output_type": "stream",
     "text": [
      "Enter number of classes held:  10\n",
      "Enter number of classes attended:  2\n",
      "Do you have medical cause? (Y/N):  n\n"
     ]
    },
    {
     "name": "stdout",
     "output_type": "stream",
     "text": [
      "Attendance Percentage: 20.00%\n",
      "Not allowed to sit in exam.\n"
     ]
    }
   ],
   "source": [
    "\n",
    "classes_held = int(input(\"Enter number of classes held: \"))\n",
    "classes_attended = int(input(\"Enter number of classes attended: \"))\n",
    "medical_cause = input(\"Do you have medical cause? (Y/N): \")\n",
    "\n",
    "\n",
    "attendance = (classes_attended / classes_held) * 100\n",
    "print(f\"Attendance Percentage: {attendance:.2f}%\")\n",
    "\n",
    "if attendance >= 75:\n",
    "    print(\"Allowed to sit in exam.\")\n",
    "elif medical_cause.upper() == 'Y':\n",
    "    print(\"Allowed to sit in exam due to medical cause.\")\n",
    "else:\n",
    "    print(\"Not allowed to sit in exam.\")\n"
   ]
  },
  {
   "cell_type": "markdown",
   "id": "719a6006-7712-4675-b54c-db966efc2865",
   "metadata": {},
   "source": [
    "13. Write a program to check if a year is leap year or not.\n",
    "If a year is divisible by 4 then it is leap year but if the year is century year like 2000, 1900, 2100 then it must be divisible by 400."
   ]
  },
  {
   "cell_type": "code",
   "execution_count": 54,
   "id": "d7b7c349-7b69-4e6d-be1a-47b92261b2b7",
   "metadata": {},
   "outputs": [
    {
     "name": "stdin",
     "output_type": "stream",
     "text": [
      "Enter a year:  2022\n"
     ]
    },
    {
     "name": "stdout",
     "output_type": "stream",
     "text": [
      "2022 is NOT a Leap Year\n"
     ]
    }
   ],
   "source": [
    "year = int(input(\"Enter a year: \"))\n",
    "\n",
    "if (year % 400 == 0) or (year % 4 == 0 and year % 100 != 0):\n",
    "    print(f\"{year} is a Leap Year\")\n",
    "else:\n",
    "    print(f\"{year} is NOT a Leap Year\")\n"
   ]
  },
  {
   "cell_type": "markdown",
   "id": "a5f01ecd-25b5-43b3-aaff-19bff6560685",
   "metadata": {},
   "source": [
    "14 .Ask user to enter age, gender ( M or F ), marital status ( Y or N ) and then using following rules print their place of service.\n",
    "- if employee is female, then she will work only in urban areas.\n",
    "\n",
    "- if employee is a male and age is in between 20 to 40 then he may work in anywhere\n",
    "\n",
    "- if employee is male and age is in between 40 t0 60 then he will work in urban areas only.\n",
    "\n",
    "And any other input of age should print \"ERROR\""
   ]
  },
  {
   "cell_type": "code",
   "execution_count": 60,
   "id": "0e0ee70c-b18a-4c4e-aedf-4cfbe73962e5",
   "metadata": {},
   "outputs": [
    {
     "name": "stdin",
     "output_type": "stream",
     "text": [
      "Enter age:  44\n",
      "Enter gender (M/F):  f\n",
      "Enter marital status (Y/N):  n\n"
     ]
    },
    {
     "name": "stdout",
     "output_type": "stream",
     "text": [
      "She will work only in urban areas.\n"
     ]
    }
   ],
   "source": [
    "age = int(input(\"Enter age: \"))\n",
    "gender = input(\"Enter gender (M/F): \").upper()\n",
    "marital_status = input(\"Enter marital status (Y/N): \").upper()\n",
    "\n",
    "if gender == 'F':\n",
    "    print(\"She will work only in urban areas.\")\n",
    "elif gender == 'M' and 20 <= age <= 40:\n",
    "    print(\"He may work anywhere.\")\n",
    "    \n",
    "elif gender == 'M' and 40 < age <= 60:\n",
    "    print(\"He will work in urban areas only.\")\n",
    "else:\n",
    "    print(\"ERROR\")\n"
   ]
  },
  {
   "cell_type": "markdown",
   "id": "76a1f3e3-eaed-4279-89fa-2e742cf605b9",
   "metadata": {},
   "source": [
    "15. Write a program to calculate the electricity bill (accept number of unit from user) according to the following criteria : Unit Price\n",
    "uptp 100 units no charge Next 200 units Rs 5 per unit After 200 units Rs 10 per unit (For example if input unit is 350 than total bill amount is Rs.3500 (For example if input unit is 97 than total bill amount is Rs.0 (For example if input unit is 150 than total bill amount is Rs.750"
   ]
  },
  {
   "cell_type": "code",
   "execution_count": 61,
   "id": "fc9adf20-9da2-4805-9cc2-4ac8f28f8e09",
   "metadata": {},
   "outputs": [
    {
     "name": "stdin",
     "output_type": "stream",
     "text": [
      "Enter number of units consumed:  132\n"
     ]
    },
    {
     "name": "stdout",
     "output_type": "stream",
     "text": [
      "Total Bill Amount: Rs.160\n"
     ]
    }
   ],
   "source": [
    "units = int(input(\"Enter number of units consumed: \"))\n",
    "\n",
    "if units <= 100:\n",
    "    bill = 0\n",
    "elif units <= 300:\n",
    "    bill = (units - 100) * 5\n",
    "else:\n",
    "    bill = (200 * 5) + (units - 300) * 10\n",
    "\n",
    "print(f\"Total Bill Amount: Rs.{bill}\")\n"
   ]
  },
  {
   "cell_type": "markdown",
   "id": "3f890961-e54e-4cf0-b61a-da150a9137db",
   "metadata": {},
   "source": [
    "16. Take input of age of 3 people by user and determine oldest and youngest among them."
   ]
  },
  {
   "cell_type": "code",
   "execution_count": 63,
   "id": "39aa9927-ab51-4b0f-8b44-d1e2f6a39e01",
   "metadata": {},
   "outputs": [
    {
     "name": "stdin",
     "output_type": "stream",
     "text": [
      "Enter age of first person:  39\n",
      "Enter age of second person:  33\n",
      "Enter age of third person:  33\n"
     ]
    },
    {
     "name": "stdout",
     "output_type": "stream",
     "text": [
      "Oldest age is: 39\n",
      "Youngest age is: 33\n"
     ]
    }
   ],
   "source": [
    "a = int(input(\"Enter age of first person: \"))\n",
    "b = int(input(\"Enter age of second person: \"))\n",
    "c = int(input(\"Enter age of third person: \"))\n",
    "\n",
    "oldest = max(a, b, c)\n",
    "youngest = min(a, b, c)\n",
    "\n",
    "print(f\"Oldest age is: {oldest}\")\n",
    "print(f\"Youngest age is: {youngest}\")\n"
   ]
  },
  {
   "cell_type": "code",
   "execution_count": null,
   "id": "718b4efe-bd5c-4f02-994a-046616881303",
   "metadata": {},
   "outputs": [],
   "source": []
  }
 ],
 "metadata": {
  "kernelspec": {
   "display_name": "Python 3 (ipykernel)",
   "language": "python",
   "name": "python3"
  },
  "language_info": {
   "codemirror_mode": {
    "name": "ipython",
    "version": 3
   },
   "file_extension": ".py",
   "mimetype": "text/x-python",
   "name": "python",
   "nbconvert_exporter": "python",
   "pygments_lexer": "ipython3",
   "version": "3.13.5"
  }
 },
 "nbformat": 4,
 "nbformat_minor": 5
}
