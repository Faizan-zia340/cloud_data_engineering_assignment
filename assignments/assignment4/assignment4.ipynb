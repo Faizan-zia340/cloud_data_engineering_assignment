{
 "cells": [
  {
   "cell_type": "markdown",
   "id": "2db55ac2-18fc-494f-b455-885b2b86ee4d",
   "metadata": {},
   "source": [
    " # 3Sat, Aug 23, 2025"
   ]
  },
  {
   "cell_type": "markdown",
   "id": "4af589c1-6c12-479e-931c-8fdc67c8161f",
   "metadata": {},
   "source": [
    " # Assignment-4 :"
   ]
  },
  {
   "cell_type": "markdown",
   "id": "1de4ad63-d036-4ec4-b311-8a4a1cace2b2",
   "metadata": {},
   "source": [
    "# List Assignment"
   ]
  },
  {
   "cell_type": "markdown",
   "id": "59559580-2e6f-4801-9804-305f28d35ddb",
   "metadata": {},
   "source": [
    "1. Write a program that accepts a list from user and print the alternate element of list."
   ]
  },
  {
   "cell_type": "code",
   "execution_count": 4,
   "id": "e196f9ed-c09f-4465-ab42-776657e2c79e",
   "metadata": {},
   "outputs": [
    {
     "name": "stdin",
     "output_type": "stream",
     "text": [
      "Enter numbers separated by space:  2 4 5 6\n"
     ]
    },
    {
     "name": "stdout",
     "output_type": "stream",
     "text": [
      "Alternate elements are:\n",
      "2\n",
      "5\n"
     ]
    }
   ],
   "source": [
    "\n",
    "nums = input(\"Enter numbers separated by space: \").split()\n",
    "print(\"Alternate elements are:\")\n",
    "for i in range(0, len(nums), 2):\n",
    "    print(nums[i])\n"
   ]
  },
  {
   "cell_type": "markdown",
   "id": "196183ed-8c9b-47a2-89fa-286451234645",
   "metadata": {},
   "source": [
    "2. Write a program that accepts a list from user. Your program should reverse the content of list and display it. Do not use reverse() method."
   ]
  },
  {
   "cell_type": "code",
   "execution_count": 3,
   "id": "b84f389a-2897-4674-bb51-9b5900aa0989",
   "metadata": {},
   "outputs": [
    {
     "name": "stdin",
     "output_type": "stream",
     "text": [
      "Enter numbers separated by space:  1 2 3 4 \n"
     ]
    },
    {
     "name": "stdout",
     "output_type": "stream",
     "text": [
      "Reversed List: ['4', '3', '2', '1']\n"
     ]
    }
   ],
   "source": [
    "\n",
    "nums = input(\"Enter numbers separated by space: \").split()\n",
    "reversed_list = nums[::-1]   \n",
    "print(\"Reversed List:\", reversed_list)\n"
   ]
  },
  {
   "cell_type": "markdown",
   "id": "0864e739-002a-4de0-b321-ad3a5f91bc65",
   "metadata": {},
   "source": [
    "3. Find and display the largest number of a list without using built-in function max()."
   ]
  },
  {
   "cell_type": "code",
   "execution_count": 5,
   "id": "ae0b8418-2fd5-4ef9-b6c7-fca8f6903d36",
   "metadata": {},
   "outputs": [
    {
     "name": "stdin",
     "output_type": "stream",
     "text": [
      "Enter numbers separated by space:        12 33 4 5 \n"
     ]
    },
    {
     "name": "stdout",
     "output_type": "stream",
     "text": [
      "Largest number is: 33\n"
     ]
    }
   ],
   "source": [
    "nums = list(map(int, input(\"Enter numbers separated by space: \").split()))\n",
    "largest = nums[0]\n",
    "for num in nums:\n",
    "    if num > largest:\n",
    "        largest = num\n",
    "print(\"Largest number is:\", largest)"
   ]
  },
  {
   "cell_type": "markdown",
   "id": "e3b97aca-00a4-4186-b451-8395fce681dc",
   "metadata": {},
   "source": [
    "4. Write a program that rotates the element of a list.\n"
   ]
  },
  {
   "cell_type": "code",
   "execution_count": 6,
   "id": "16fe7584-ebb2-475b-81b2-85079e6ff565",
   "metadata": {},
   "outputs": [
    {
     "name": "stdin",
     "output_type": "stream",
     "text": [
      "Enter numbers separated by space:  2 4 6 7 \n"
     ]
    },
    {
     "name": "stdout",
     "output_type": "stream",
     "text": [
      "Rotated List: ['4', '6', '7', '2']\n"
     ]
    }
   ],
   "source": [
    "nums = input(\"Enter numbers separated by space: \").split()\n",
    "rotated = nums[1:] + nums[:1]\n",
    "print(\"Rotated List:\", rotated)"
   ]
  },
  {
   "cell_type": "markdown",
   "id": "8a40026e-0fb7-4b25-977a-712212e47fe4",
   "metadata": {},
   "source": [
    "5. Write a program that input a string and ask user to delete a given word from a string."
   ]
  },
  {
   "cell_type": "code",
   "execution_count": 7,
   "id": "115f933d-33f3-4e06-96c8-bf8cd5d2ba0c",
   "metadata": {},
   "outputs": [
    {
     "name": "stdin",
     "output_type": "stream",
     "text": [
      "Enter a sentence:  i m faizy\n",
      "Enter word to delete:  m\n"
     ]
    },
    {
     "name": "stdout",
     "output_type": "stream",
     "text": [
      "Updated string: i  faizy\n"
     ]
    }
   ],
   "source": [
    "text = input(\"Enter a sentence: \")\n",
    "word = input(\"Enter word to delete: \")\n",
    "new_text = text.replace(word, \"\")\n",
    "print(\"Updated string:\", new_text)"
   ]
  },
  {
   "cell_type": "markdown",
   "id": "7ee5effd-36ae-4eb8-adec-1f9cdf72e925",
   "metadata": {},
   "source": [
    "6. Write a program that reads a string from the user containing a date in the form mm/dd/yyyy. It should print the date in the form March 12, 2021."
   ]
  },
  {
   "cell_type": "code",
   "execution_count": 8,
   "id": "ea8d7c7e-3976-4bf2-8c6f-c85deb9a2a06",
   "metadata": {},
   "outputs": [
    {
     "name": "stdin",
     "output_type": "stream",
     "text": [
      "Enter date (mm/dd/yyyy):  04/25/2003\n"
     ]
    },
    {
     "name": "stdout",
     "output_type": "stream",
     "text": [
      "April 25, 2003\n"
     ]
    }
   ],
   "source": [
    "months = [\"January\",\"February\",\"March\",\"April\",\"May\",\"June\",\n",
    "          \"July\",\"August\",\"September\",\"October\",\"November\",\"December\"]\n",
    "\n",
    "date = input(\"Enter date (mm/dd/yyyy): \")\n",
    "mm, dd, yy = date.split(\"/\")\n",
    "mm = int(mm)\n",
    "print(f\"{months[mm-1]} {dd}, {yy}\")"
   ]
  },
  {
   "cell_type": "markdown",
   "id": "081d7709-096f-4807-9c15-d6fdd4547fa4",
   "metadata": {},
   "source": [
    "7. Write a program with a function that accepts a string and creates a new string after converting characters of each word capitalized."
   ]
  },
  {
   "cell_type": "code",
   "execution_count": 9,
   "id": "1fc2721d-cbf1-441e-b6bf-492604bd2beb",
   "metadata": {},
   "outputs": [
    {
     "name": "stdin",
     "output_type": "stream",
     "text": [
      "Enter a sentence:  faizan\n"
     ]
    },
    {
     "name": "stdout",
     "output_type": "stream",
     "text": [
      "Capitalized String: Faizan\n"
     ]
    }
   ],
   "source": [
    "\n",
    "def capitalize_words(sentence):\n",
    "    words = sentence.split()\n",
    "    result = \"\"\n",
    "    for w in words:\n",
    "        result += w.capitalize() + \" \"\n",
    "    return result.strip()\n",
    "\n",
    "text = input(\"Enter a sentence: \")\n",
    "print(\"Capitalized String:\", capitalize_words(text))\n"
   ]
  },
  {
   "cell_type": "markdown",
   "id": "492c832a-7f6f-4ad0-90e1-c09d71fc18d1",
   "metadata": {},
   "source": [
    "8. Find the sum of each row of matrix of size m x n."
   ]
  },
  {
   "cell_type": "code",
   "execution_count": 12,
   "id": "36214299-1c84-4f98-9330-bd6a398d6349",
   "metadata": {},
   "outputs": [
    {
     "name": "stdin",
     "output_type": "stream",
     "text": [
      "Enter number of rows:  4\n",
      "Enter number of columns:  4\n",
      "Enter row 1 values:  2 3 4\n",
      "Enter row 2 values:  3 4 5 \n",
      "Enter row 3 values:   4 5 66 \n",
      "Enter row 4 values:   34 56 7 \n"
     ]
    },
    {
     "name": "stdout",
     "output_type": "stream",
     "text": [
      "Sum of row 1 = 9\n",
      "Sum of row 2 = 12\n",
      "Sum of row 3 = 75\n",
      "Sum of row 4 = 97\n"
     ]
    }
   ],
   "source": [
    "rows = int(input(\"Enter number of rows: \"))\n",
    "cols = int(input(\"Enter number of columns: \"))\n",
    "\n",
    "matrix = []\n",
    "for i in range(rows):\n",
    "    row = list(map(int, input(f\"Enter row {i+1} values: \").split()))\n",
    "    matrix.append(row)\n",
    "\n",
    "for i in range(rows):\n",
    "    print(\"Sum of row\", i+1, \"=\", sum(matrix[i]))"
   ]
  },
  {
   "cell_type": "markdown",
   "id": "71bb2d4a-6cf1-4c42-88b9-1e03d0a1898b",
   "metadata": {},
   "source": [
    "9 .Write a program to add two matrices of size n x m."
   ]
  },
  {
   "cell_type": "code",
   "execution_count": 18,
   "id": "a92f9bc7-6473-4686-af16-4c8040a73611",
   "metadata": {},
   "outputs": [
    {
     "name": "stdin",
     "output_type": "stream",
     "text": [
      "Enter number of rows:  2\n",
      "Enter number of columns:  1\n"
     ]
    },
    {
     "name": "stdout",
     "output_type": "stream",
     "text": [
      "Enter first matrix:\n"
     ]
    },
    {
     "name": "stdin",
     "output_type": "stream",
     "text": [
      " 1\n",
      " 1\n"
     ]
    },
    {
     "name": "stdout",
     "output_type": "stream",
     "text": [
      "Enter second matrix:\n"
     ]
    },
    {
     "name": "stdin",
     "output_type": "stream",
     "text": [
      " 1\n",
      " 1\n"
     ]
    },
    {
     "name": "stdout",
     "output_type": "stream",
     "text": [
      "Resultant Matrix (Addition):\n",
      "[2]\n",
      "[2]\n"
     ]
    },
    {
     "name": "stdin",
     "output_type": "stream",
     "text": [
      "Enter number of rows:  2\n",
      "Enter number of columns:  1\n"
     ]
    },
    {
     "name": "stdout",
     "output_type": "stream",
     "text": [
      "Enter first matrix:\n"
     ]
    },
    {
     "name": "stdin",
     "output_type": "stream",
     "text": [
      " 1\n",
      " 1\n"
     ]
    },
    {
     "name": "stdout",
     "output_type": "stream",
     "text": [
      "Enter second matrix:\n"
     ]
    },
    {
     "name": "stdin",
     "output_type": "stream",
     "text": [
      " 1\n",
      " 1\n"
     ]
    },
    {
     "name": "stdout",
     "output_type": "stream",
     "text": [
      "Resultant Matrix (Addition):\n",
      "[2]\n",
      "[2]\n"
     ]
    }
   ],
   "source": [
    "rows = int(input(\"Enter number of rows: \"))\n",
    "cols = int(input(\"Enter number of columns: \"))\n",
    "\n",
    "print(\"Enter first matrix:\")\n",
    "A = [list(map(int, input().split())) for _ in range(rows)]\n",
    "\n",
    "print(\"Enter second matrix:\")\n",
    "B = [list(map(int, input().split())) for _ in range(rows)]\n",
    "\n",
    "result = []\n",
    "for i in range(rows):\n",
    "    row = []\n",
    "    for j in range(cols):\n",
    "        row.append(A[i][j] + B[i][j])\n",
    "    result.append(row)\n",
    "\n",
    "print(\"Resultant Matrix (Addition):\")\n",
    "for r in result:\n",
    "    print(r)\n",
    "\n",
    "rows = int(input(\"Enter number of rows: \"))\n",
    "cols = int(input(\"Enter number of columns: \"))\n",
    "\n",
    "print(\"Enter first matrix:\")\n",
    "A = [list(map(int, input().split())) for _ in range(rows)]\n",
    "\n",
    "print(\"Enter second matrix:\")\n",
    "B = [list(map(int, input().split())) for _ in range(rows)]\n",
    "\n",
    "result = []\n",
    "for i in range(rows):\n",
    "    row = []\n",
    "    for j in range(cols):\n",
    "        row.append(A[i][j] + B[i][j])\n",
    "    result.append(row)\n",
    "\n",
    "print(\"Resultant Matrix (Addition):\")\n",
    "for r in result:\n",
    "    print(r)\n"
   ]
  },
  {
   "cell_type": "markdown",
   "id": "ff85dc9c-2dea-466d-aee8-ee34e2827c01",
   "metadata": {},
   "source": [
    "10.  Write a program to multiply two matrices.\n"
   ]
  },
  {
   "cell_type": "code",
   "execution_count": 20,
   "id": "fa5425b7-5e1c-44c7-95f6-e7ebd9a10e43",
   "metadata": {},
   "outputs": [
    {
     "name": "stdin",
     "output_type": "stream",
     "text": [
      "Enter rows of first matrix:  1\n",
      "Enter columns of first matrix:  1\n"
     ]
    },
    {
     "name": "stdout",
     "output_type": "stream",
     "text": [
      "Enter first matrix:\n"
     ]
    },
    {
     "name": "stdin",
     "output_type": "stream",
     "text": [
      " 2\n",
      "Enter rows of second matrix:  3\n",
      "Enter columns of second matrix:  2\n"
     ]
    },
    {
     "name": "stdout",
     "output_type": "stream",
     "text": [
      "Enter second matrix:\n"
     ]
    },
    {
     "name": "stdin",
     "output_type": "stream",
     "text": [
      " 2\n",
      " 3\n",
      " 2\n"
     ]
    },
    {
     "name": "stdout",
     "output_type": "stream",
     "text": [
      "Matrix multiplication not possible!\n"
     ]
    }
   ],
   "source": [
    "\n",
    "rows = int(input(\"Enter rows of first matrix: \"))\n",
    "cols = int(input(\"Enter columns of first matrix: \"))\n",
    "print(\"Enter first matrix:\")\n",
    "A = [list(map(int, input().split())) for _ in range(rows)]\n",
    "\n",
    "rows2 = int(input(\"Enter rows of second matrix: \"))\n",
    "cols2 = int(input(\"Enter columns of second matrix: \"))\n",
    "print(\"Enter second matrix:\")\n",
    "B = [list(map(int, input().split())) for _ in range(rows2)]\n",
    "\n",
    "# multiplication only possible if cols == rows2\n",
    "if cols != rows2:\n",
    "    print(\"Matrix multiplication not possible!\")\n",
    "else:\n",
    "    result = [[0 for _ in range(cols2)] for _ in range(rows)]\n",
    "    for i in range(rows):\n",
    "        for j in range(cols2):\n",
    "            for k in range(cols):\n",
    "                result[i][j] += A[i][k] * B[k][j]\n",
    "\n",
    "    print(\"Resultant Matrix (Multiplication):\")\n",
    "    for r in result:\n",
    "        print(r)\n"
   ]
  },
  {
   "cell_type": "code",
   "execution_count": null,
   "id": "126be1ec-8639-4134-bb69-33356675f3fb",
   "metadata": {},
   "outputs": [],
   "source": []
  }
 ],
 "metadata": {
  "kernelspec": {
   "display_name": "Python 3 (ipykernel)",
   "language": "python",
   "name": "python3"
  },
  "language_info": {
   "codemirror_mode": {
    "name": "ipython",
    "version": 3
   },
   "file_extension": ".py",
   "mimetype": "text/x-python",
   "name": "python",
   "nbconvert_exporter": "python",
   "pygments_lexer": "ipython3",
   "version": "3.13.5"
  }
 },
 "nbformat": 4,
 "nbformat_minor": 5
}
