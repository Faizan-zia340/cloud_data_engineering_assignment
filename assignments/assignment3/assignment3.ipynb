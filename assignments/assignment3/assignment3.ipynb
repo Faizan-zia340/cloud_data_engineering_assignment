{
 "cells": [
  {
   "cell_type": "markdown",
   "id": "580a7b65-7c86-42df-960a-e44c7ff25fbc",
   "metadata": {},
   "source": [
    "## Sat, Aug 23, 2025"
   ]
  },
  {
   "cell_type": "markdown",
   "id": "c9bda4d1-88fe-431b-8508-cf5721703a36",
   "metadata": {},
   "source": [
    "# Assignment-3 :"
   ]
  },
  {
   "cell_type": "markdown",
   "id": "403c8e0d-1f14-4cee-8319-f5e5917216a9",
   "metadata": {},
   "source": [
    "1. Count Vowels"
   ]
  },
  {
   "cell_type": "code",
   "execution_count": 2,
   "id": "6a705fb9-3fea-4523-aed8-78cf6420ae55",
   "metadata": {},
   "outputs": [
    {
     "name": "stdin",
     "output_type": "stream",
     "text": [
      "Enter a string:  wadgtrrvrbvbhl,6yhitjrkm\n"
     ]
    },
    {
     "name": "stdout",
     "output_type": "stream",
     "text": [
      "Number of vowels: 2\n"
     ]
    }
   ],
   "source": [
    "s = input(\"Enter a string: \")\n",
    "count = 0\n",
    "for ch in s:\n",
    "    if ch in \"aeiouAEIOU\":\n",
    "        count += 1\n",
    "print(\"Number of vowels:\", count)\n"
   ]
  },
  {
   "cell_type": "markdown",
   "id": "d7b370d8-8545-4c71-8b50-630fbb15169b",
   "metadata": {},
   "source": [
    "2. Count Uppercase, Lowercase, Digits, Spaces"
   ]
  },
  {
   "cell_type": "code",
   "execution_count": 4,
   "id": "156702e5-bd73-4f24-9861-af055da6ca15",
   "metadata": {},
   "outputs": [
    {
     "name": "stdin",
     "output_type": "stream",
     "text": [
      "Enter a string:  ASDERSFDcsfjncefdjn234344    \n"
     ]
    },
    {
     "name": "stdout",
     "output_type": "stream",
     "text": [
      "Uppercase: 8\n",
      "Lowercase: 11\n",
      "Digits: 6\n",
      "Spaces: 4\n"
     ]
    }
   ],
   "source": [
    "s = input(\"Enter a string: \")\n",
    "upper = 0\n",
    "lower = 0\n",
    "digits = 0\n",
    "spaces = 0\n",
    "\n",
    "for ch in s:\n",
    "    if ch.isupper():\n",
    "        upper += 1\n",
    "    elif ch.islower():\n",
    "        lower += 1\n",
    "    elif ch.isdigit():\n",
    "        digits += 1\n",
    "    elif ch.isspace():\n",
    "        spaces += 1\n",
    "\n",
    "print(\"Uppercase:\", upper)\n",
    "print(\"Lowercase:\", lower)\n",
    "print(\"Digits:\", digits)\n",
    "print(\"Spaces:\", spaces)\n"
   ]
  },
  {
   "cell_type": "markdown",
   "id": "1a0956fe-3320-4fe3-945c-12e5152c23bc",
   "metadata": {},
   "source": [
    "3. Exchange First and Last Characters"
   ]
  },
  {
   "cell_type": "code",
   "execution_count": 9,
   "id": "c55cfef0-7c07-4582-84db-58b5ed8e1f5c",
   "metadata": {},
   "outputs": [
    {
     "name": "stdin",
     "output_type": "stream",
     "text": [
      "Enter a string:  fddsfd\n"
     ]
    },
    {
     "name": "stdout",
     "output_type": "stream",
     "text": [
      "New string: dddsff\n"
     ]
    }
   ],
   "source": [
    "s = input(\"Enter a string: \")\n",
    "\n",
    "if len(s) > 1:\n",
    "    new_s = s[-1] + s[1:-1] + s[0]\n",
    "else:\n",
    "    new_s = s\n",
    "\n",
    "print(\"New string:\", new_s)\n"
   ]
  },
  {
   "cell_type": "markdown",
   "id": "03586937-6601-46ed-a338-4b80a42194ec",
   "metadata": {},
   "source": [
    "4. Reverse String"
   ]
  },
  {
   "cell_type": "code",
   "execution_count": 10,
   "id": "d3c30230-7fd0-436c-8e91-dcb7d5c95500",
   "metadata": {},
   "outputs": [
    {
     "name": "stdin",
     "output_type": "stream",
     "text": [
      "Enter a string:  faizy\n"
     ]
    },
    {
     "name": "stdout",
     "output_type": "stream",
     "text": [
      "Reverse string: yziaf\n"
     ]
    }
   ],
   "source": [
    "s = input(\"Enter a string: \")\n",
    "new_s = \"\"\n",
    "for i in range(len(s)-1, -1, -1):\n",
    "    new_s = new_s + s[i]\n",
    "print(\"Reverse string:\", new_s)\n"
   ]
  },
  {
   "cell_type": "markdown",
   "id": "dd14750f-12d3-4671-bfe9-9f3a5804ecf8",
   "metadata": {},
   "source": [
    "5. Shift One Position Left"
   ]
  },
  {
   "cell_type": "code",
   "execution_count": 12,
   "id": "2ebdb53d-df7a-4147-ba3a-a80ad59b3c98",
   "metadata": {},
   "outputs": [
    {
     "name": "stdin",
     "output_type": "stream",
     "text": [
      "Enter a string:  faizan\n"
     ]
    },
    {
     "name": "stdout",
     "output_type": "stream",
     "text": [
      "Shifted string: aizanf\n"
     ]
    }
   ],
   "source": [
    "s = input(\"Enter a string: \")\n",
    "\n",
    "if len(s) > 1:\n",
    "    new_s = s[1:] + s[0]\n",
    "else:\n",
    "    new_s = s\n",
    "\n",
    "print(\"Shifted string:\", new_s)\n"
   ]
  },
  {
   "cell_type": "markdown",
   "id": "e4cf1ae3-a0be-4c1f-bc4b-b3d32586e6f7",
   "metadata": {},
   "source": [
    "6. Print Initials (without split)"
   ]
  },
  {
   "cell_type": "code",
   "execution_count": 13,
   "id": "3d9fe4ce-a709-4dec-a397-c33cfaa4bd93",
   "metadata": {},
   "outputs": [
    {
     "name": "stdin",
     "output_type": "stream",
     "text": [
      "Enter your full name:  faizan zia\n"
     ]
    },
    {
     "name": "stdout",
     "output_type": "stream",
     "text": [
      "Initials: F. Z. \n"
     ]
    }
   ],
   "source": [
    "name = input(\"Enter your full name: \").strip()\n",
    "initials = name[0].upper() + \". \"\n",
    "\n",
    "for i in range(len(name)):\n",
    "    if name[i] == \" \" and i+1 < len(name):\n",
    "        initials += name[i+1].upper() + \". \"\n",
    "\n",
    "print(\"Initials:\", initials)\n"
   ]
  },
  {
   "cell_type": "markdown",
   "id": "7eb15f64-d432-4a17-92f4-4729a57e5811",
   "metadata": {},
   "source": [
    "7. Palindrome Check (without reverse())"
   ]
  },
  {
   "cell_type": "code",
   "execution_count": 15,
   "id": "215121dc-103c-4206-86d5-1bae9daa58d9",
   "metadata": {},
   "outputs": [
    {
     "name": "stdin",
     "output_type": "stream",
     "text": [
      "Enter a string:  nppn\n"
     ]
    },
    {
     "name": "stdout",
     "output_type": "stream",
     "text": [
      "Palindrome\n"
     ]
    }
   ],
   "source": [
    "s = input(\"Enter a string: \")\n",
    "is_palindrome = True\n",
    "\n",
    "for i in range(len(s)//2):\n",
    "    if s[i] != s[len(s)-i-1]:\n",
    "        is_palindrome = False\n",
    "        break\n",
    "\n",
    "if is_palindrome:\n",
    "    print(\"Palindrome\")\n",
    "else:\n",
    "    print(\"Not Palindrome\")\n"
   ]
  },
  {
   "cell_type": "markdown",
   "id": "532ddf75-d089-4fa1-aba3-67e6d3b18c2c",
   "metadata": {},
   "source": [
    "8. . SHIFT Pattern"
   ]
  },
  {
   "cell_type": "code",
   "execution_count": 16,
   "id": "1dad7a3c-7967-43b5-a908-ad75244a6d67",
   "metadata": {},
   "outputs": [
    {
     "name": "stdout",
     "output_type": "stream",
     "text": [
      "SHIFT\n",
      "HIFTS\n",
      "IFTSH\n",
      "FTSHI\n",
      "TSHIF\n"
     ]
    }
   ],
   "source": [
    "s = \"SHIFT\"\n",
    "\n",
    "for i in range(len(s)):\n",
    "    new_s = \"\"\n",
    "    for j in range(len(s)):\n",
    "        new_s += s[(i+j) % len(s)]\n",
    "    print(new_s)\n"
   ]
  },
  {
   "cell_type": "markdown",
   "id": "5ae923a5-d087-4597-a2fb-ab3f0fcad9fa",
   "metadata": {},
   "source": [
    "9. Password Validation"
   ]
  },
  {
   "cell_type": "code",
   "execution_count": 18,
   "id": "e6d03776-4de9-4510-b215-996b705fd5ec",
   "metadata": {},
   "outputs": [
    {
     "name": "stdin",
     "output_type": "stream",
     "text": [
      "Enter password:  Faizy@32\n"
     ]
    },
    {
     "name": "stdout",
     "output_type": "stream",
     "text": [
      "Password is valid \n"
     ]
    }
   ],
   "source": [
    "password = input(\"Enter password: \")\n",
    "valid = True\n",
    "\n",
    "if len(password) < 8:\n",
    "    print(\"Password must be at least 8 characters long\")\n",
    "    valid = False\n",
    "\n",
    "has_upper = False\n",
    "has_lower = False\n",
    "has_digit = False\n",
    "\n",
    "for ch in password:\n",
    "    if ch.isupper():\n",
    "        has_upper = True\n",
    "    if ch.islower():\n",
    "        has_lower = True\n",
    "    if ch.isdigit():\n",
    "        has_digit = True\n",
    "\n",
    "if not has_upper:\n",
    "    print(\"Password must contain an uppercase letter\")\n",
    "    valid = False\n",
    "if not has_lower:\n",
    "    print(\"Password must contain a lowercase letter\")\n",
    "    valid = False\n",
    "if not has_digit:\n",
    "    print(\"Password must contain a digit\")\n",
    "    valid = False\n",
    "\n",
    "if valid:\n",
    "    print(\"Password is valid \")\n"
   ]
  },
  {
   "cell_type": "code",
   "execution_count": null,
   "id": "e021076b-0488-4070-ad92-f5a1bfa9a563",
   "metadata": {},
   "outputs": [],
   "source": []
  }
 ],
 "metadata": {
  "kernelspec": {
   "display_name": "Python 3 (ipykernel)",
   "language": "python",
   "name": "python3"
  },
  "language_info": {
   "codemirror_mode": {
    "name": "ipython",
    "version": 3
   },
   "file_extension": ".py",
   "mimetype": "text/x-python",
   "name": "python",
   "nbconvert_exporter": "python",
   "pygments_lexer": "ipython3",
   "version": "3.13.5"
  }
 },
 "nbformat": 4,
 "nbformat_minor": 5
}
