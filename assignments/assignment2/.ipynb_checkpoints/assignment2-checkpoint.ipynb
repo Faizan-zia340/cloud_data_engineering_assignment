{
 "cells": [
  {
   "cell_type": "markdown",
   "id": "e75ca029-c421-4feb-956f-01172dfae5f3",
   "metadata": {},
   "source": [
    "## Sat, Aug 23, 2025"
   ]
  },
  {
   "cell_type": "markdown",
   "id": "6dafc1c6-aa57-402c-b8fa-25029292d553",
   "metadata": {},
   "source": [
    "#                                           Assignment-2 :"
   ]
  },
  {
   "cell_type": "markdown",
   "id": "ff14517d-cd05-41b5-8958-4434e93f4939",
   "metadata": {},
   "source": [
    "#  Conditional Statements"
   ]
  },
  {
   "cell_type": "markdown",
   "id": "de414afa-8a97-4f9e-a1e0-0d06ca62ce7e",
   "metadata": {},
   "source": [
    "1. A company decided to give bonus of 5% to employee if his/her year of service is more than 5 years. Ask user for their salary and year of service and print the net bonus amount."
   ]
  },
  {
   "cell_type": "code",
   "execution_count": 5,
   "id": "38e2c9a8-e814-4310-af02-6e256cf19e91",
   "metadata": {},
   "outputs": [
    {
     "name": "stdin",
     "output_type": "stream",
     "text": [
      "Enter your salary:  10000\n",
      "Enter your years of service:  2\n"
     ]
    },
    {
     "name": "stdout",
     "output_type": "stream",
     "text": [
      "No bonus awarded.\n"
     ]
    }
   ],
   "source": [
    "salary = float(input(\"Enter your salary: \"))\n",
    "years = int(input(\"Enter your years of service: \"))\n",
    "\n",
    "if years > 5:\n",
    "    bonus = 0.05 * salary\n",
    "    print(f\"Net bonus amount: {bonus}\")\n",
    "else:\n",
    "    print(\"No bonus awarded.\")\n",
    "\n",
    "\n"
   ]
  },
  {
   "cell_type": "markdown",
   "id": "08238a51-7f8f-4039-a71e-1d1ad5e832e8",
   "metadata": {},
   "source": [
    "2 .Write a program to check whether a person is eligible for voting or not. (accept age from user) if age is greater than 17 eligible otherwise not eligible"
   ]
  },
  {
   "cell_type": "code",
   "execution_count": 6,
   "id": "781377e0-e151-41a9-9173-90ed69e7a64d",
   "metadata": {},
   "outputs": [
    {
     "name": "stdin",
     "output_type": "stream",
     "text": [
      "Enter your age:  18\n"
     ]
    },
    {
     "name": "stdout",
     "output_type": "stream",
     "text": [
      "Eligible for voting.\n"
     ]
    }
   ],
   "source": [
    "age = int(input(\"Enter your age: \"))\n",
    "\n",
    "if age > 17:\n",
    "    print(\"Eligible for voting.\")\n",
    "else:\n",
    "    print(\"Not eligible for voting.\")"
   ]
  },
  {
   "cell_type": "markdown",
   "id": "d4ab5c71-aee5-4cfa-bbdd-c9874bdcd208",
   "metadata": {},
   "source": [
    "3. Write a program to check whether a number entered by user is even or odd. "
   ]
  },
  {
   "cell_type": "code",
   "execution_count": 7,
   "id": "58e16b97-9492-4236-be03-c31d413d2ef2",
   "metadata": {},
   "outputs": [
    {
     "name": "stdin",
     "output_type": "stream",
     "text": [
      "Enter a number:  8\n"
     ]
    },
    {
     "name": "stdout",
     "output_type": "stream",
     "text": [
      "Even Number\n"
     ]
    }
   ],
   "source": [
    "num = int(input(\"Enter a number: \"))\n",
    "\n",
    "if num % 2 == 0:\n",
    "    print(\"Even Number\")\n",
    "else:\n",
    "    print(\"Odd Number\")\n"
   ]
  },
  {
   "cell_type": "markdown",
   "id": "5202dfe9-7f8d-4b51-9a12-d66cb5c34175",
   "metadata": {},
   "source": [
    "4. Write a program to check whether a number is divisible by 7 or not. Show Answer"
   ]
  },
  {
   "cell_type": "code",
   "execution_count": 8,
   "id": "da91d9eb-f930-4462-beba-44fcac552954",
   "metadata": {},
   "outputs": [
    {
     "name": "stdin",
     "output_type": "stream",
     "text": [
      "Enter a number:  89\n"
     ]
    },
    {
     "name": "stdout",
     "output_type": "stream",
     "text": [
      "Number is not divisible by 7\n"
     ]
    }
   ],
   "source": [
    "num = int(input(\"Enter a number: \"))\n",
    "\n",
    "if num % 7 == 0:\n",
    "    print(\"Number is divisible by 7\")\n",
    "else:\n",
    "    print(\"Number is not divisible by 7\")\n"
   ]
  },
  {
   "cell_type": "markdown",
   "id": "b4e5e575-c830-4df2-a8a7-5c18f2486900",
   "metadata": {},
   "source": [
    "5. Write a program to display \"Hello\" if a number entered by user is a multiple of five , otherwise print \"Bye\"."
   ]
  },
  {
   "cell_type": "code",
   "execution_count": 9,
   "id": "d65becba-cb14-488a-88ba-276e58b23b4e",
   "metadata": {},
   "outputs": [
    {
     "name": "stdin",
     "output_type": "stream",
     "text": [
      "Enter a number:  100\n"
     ]
    },
    {
     "name": "stdout",
     "output_type": "stream",
     "text": [
      "Hello\n"
     ]
    }
   ],
   "source": [
    "num = int(input(\"Enter a number: \"))\n",
    "\n",
    "if num % 5 == 0:\n",
    "    print(\"Hello\")\n",
    "else:\n",
    "    print(\"Bye\")\n"
   ]
  },
  {
   "cell_type": "markdown",
   "id": "e7bf90bb-e9dc-4814-b3d2-71e1e9970d9e",
   "metadata": {},
   "source": [
    "6. Write a program to display the last digit of a number."
   ]
  },
  {
   "cell_type": "code",
   "execution_count": 11,
   "id": "d7e68007-c7a4-4ac8-8a38-f3d32beee96f",
   "metadata": {},
   "outputs": [
    {
     "name": "stdin",
     "output_type": "stream",
     "text": [
      "Enter a number:  77\n"
     ]
    },
    {
     "name": "stdout",
     "output_type": "stream",
     "text": [
      "Last digit is: 7\n"
     ]
    }
   ],
   "source": [
    "num = int(input(\"Enter a number: \"))\n",
    "print(\"Last digit is:\", num % 10)\n"
   ]
  },
  {
   "cell_type": "markdown",
   "id": "72cef8ac-0723-4f13-936f-cd6c9bda1a28",
   "metadata": {},
   "source": [
    "7. Take values of length and breadth of a rectangle from user and print if it is square or rectangle."
   ]
  },
  {
   "cell_type": "code",
   "execution_count": 12,
   "id": "2dc980ea-352f-4652-a675-0f4885ff27de",
   "metadata": {},
   "outputs": [
    {
     "name": "stdin",
     "output_type": "stream",
     "text": [
      "Enter length:  4\n",
      "Enter breadth:  6\n"
     ]
    },
    {
     "name": "stdout",
     "output_type": "stream",
     "text": [
      "It is a Rectangle.\n"
     ]
    }
   ],
   "source": [
    "length = int(input(\"Enter length: \"))\n",
    "breadth = int(input(\"Enter breadth: \"))\n",
    "\n",
    "if length == breadth:\n",
    "    print(\"It is a Square.\")\n",
    "else:\n",
    "    print(\"It is a Rectangle.\")"
   ]
  },
  {
   "cell_type": "markdown",
   "id": "3c916193-961a-4d79-beee-905f62779b90",
   "metadata": {},
   "source": [
    "8. Take two int values from user and print greatest among them.\n"
   ]
  },
  {
   "cell_type": "code",
   "execution_count": 13,
   "id": "c8e8d63b-4766-450d-9c26-8b8d6d2f493e",
   "metadata": {},
   "outputs": [
    {
     "name": "stdin",
     "output_type": "stream",
     "text": [
      "Enter first number:  5\n",
      "Enter second number:  6\n"
     ]
    },
    {
     "name": "stdout",
     "output_type": "stream",
     "text": [
      "Greatest is: 6\n"
     ]
    }
   ],
   "source": [
    "a = int(input(\"Enter first number: \"))\n",
    "b = int(input(\"Enter second number: \"))\n",
    "\n",
    "if a > b:\n",
    "    print(\"Greatest is:\", a)\n",
    "elif b > a:\n",
    "    print(\"Greatest is:\", b)\n",
    "else:\n",
    "    print(\"Both are equal\")\n",
    "    "
   ]
  },
  {
   "cell_type": "markdown",
   "id": "4263d0dd-7171-4374-b237-b013ae5cae6d",
   "metadata": {},
   "source": [
    "9. A shop will give discount of 10% if the cost of purchased quantity is more than 1000. Ask user for quantity Suppose, one unit will cost 100. Judge and print total cost for user."
   ]
  },
  {
   "cell_type": "code",
   "execution_count": 14,
   "id": "192002c3-e057-4ab6-995b-99d172bf2775",
   "metadata": {},
   "outputs": [
    {
     "name": "stdin",
     "output_type": "stream",
     "text": [
      "Enter quantity:  4\n"
     ]
    },
    {
     "name": "stdout",
     "output_type": "stream",
     "text": [
      "Total Cost: 400\n"
     ]
    }
   ],
   "source": [
    "quantity = int(input(\"Enter quantity: \"))\n",
    "cost = quantity * 100\n",
    "\n",
    "if cost > 1000:\n",
    "    cost = cost - (0.1 * cost)\n",
    "print(\"Total Cost:\", cost)\n",
    "\n"
   ]
  },
  {
   "cell_type": "markdown",
   "id": "88f61ea8-ce61-4a16-a3b6-7ab4c47ec5fa",
   "metadata": {},
   "source": [
    "10. A school has following rules for grading system:\n",
    "a. Below 25 - F\n",
    "\n",
    "b. 25 to 45 - E\n",
    "\n",
    "c. 45 to 50 - D\n",
    "\n",
    "d. 50 to 60 - C\n",
    "\n",
    "e. 60 to 80 - B\n",
    "\n",
    "f. Above 80 - A\n",
    "\n",
    "Ask user to enter marks and print the corresponding grade."
   ]
  },
  {
   "cell_type": "code",
   "execution_count": 15,
   "id": "3889f91f-c226-4bf1-af2d-ab4761e74141",
   "metadata": {},
   "outputs": [
    {
     "name": "stdin",
     "output_type": "stream",
     "text": [
      "Enter your marks:  88\n"
     ]
    },
    {
     "name": "stdout",
     "output_type": "stream",
     "text": [
      "Your Grade is: A\n"
     ]
    }
   ],
   "source": [
    "marks = int(input(\"Enter your marks: \"))\n",
    "\n",
    "if marks < 25:\n",
    "    grade = \"F\"\n",
    "elif marks <= 45:\n",
    "    grade = \"E\"\n",
    "elif marks <= 50:\n",
    "    grade = \"D\"\n",
    "elif marks <= 60:\n",
    "    grade = \"C\"\n",
    "elif marks <= 80:\n",
    "    grade = \"B\"\n",
    "else:\n",
    "    grade = \"A\"\n",
    "\n",
    "print(\"Your Grade is:\", grade)\n"
   ]
  },
  {
   "cell_type": "markdown",
   "id": "e038e857-ec2a-4bef-ba37-c1b2431fd61b",
   "metadata": {},
   "source": [
    "11. A student will not be allowed to sit in exam if his/her attendence is less than 75%.\n",
    "\n",
    "Take following input from user\n",
    "\n",
    "Number of classes held\n",
    "\n",
    "Number of classes attended.\n",
    "\n",
    "And print\n",
    "\n",
    "percentage of class attended\n",
    "\n",
    "Is student is allowed to sit in exam or not."
   ]
  },
  {
   "cell_type": "code",
   "execution_count": 16,
   "id": "8c543051-89b4-4445-bb35-1771d6a42060",
   "metadata": {},
   "outputs": [
    {
     "name": "stdin",
     "output_type": "stream",
     "text": [
      "Enter number of classes held:  20\n",
      "Enter number of classes attended:  10\n"
     ]
    },
    {
     "name": "stdout",
     "output_type": "stream",
     "text": [
      "Attendance Percentage: 50.00%\n",
      "Not allowed to sit in exam.\n"
     ]
    }
   ],
   "source": [
    "classes_held = int(input(\"Enter number of classes held: \"))\n",
    "classes_attended = int(input(\"Enter number of classes attended: \"))\n",
    "\n",
    "attendance = (classes_attended / classes_held) * 100\n",
    "print(f\"Attendance Percentage: {attendance:.2f}%\")\n",
    "\n",
    "if attendance >= 75:\n",
    "    print(\"Allowed to sit in exam.\")\n",
    "else:\n",
    "    print(\"Not allowed to sit in exam.\")\n"
   ]
  },
  {
   "cell_type": "markdown",
   "id": "31cc6b49-fc73-43cf-93de-8f5ae0051398",
   "metadata": {},
   "source": [
    "12. Modify the above question to allow student to sit if he/she has medical cause. Ask user if he/she has medical cause or not ( 'Y' or 'N' ) and print accordingly."
   ]
  },
  {
   "cell_type": "code",
   "execution_count": 17,
   "id": "f0a2a26f-e762-445a-b97c-3f703e4f3116",
   "metadata": {},
   "outputs": [
    {
     "name": "stdin",
     "output_type": "stream",
     "text": [
      "Enter number of classes held:  20\n",
      "Enter number of classes attended:  10\n",
      "Do you have medical cause? (Y/N):  y\n"
     ]
    },
    {
     "name": "stdout",
     "output_type": "stream",
     "text": [
      "Attendance Percentage: 50.00%\n",
      "Allowed due to medical cause.\n"
     ]
    }
   ],
   "source": [
    "classes_held = int(input(\"Enter number of classes held: \"))\n",
    "classes_attended = int(input(\"Enter number of classes attended: \"))\n",
    "medical = input(\"Do you have medical cause? (Y/N): \")\n",
    "\n",
    "attendance = (classes_attended / classes_held) * 100\n",
    "print(f\"Attendance Percentage: {attendance:.2f}%\")\n",
    "\n",
    "if attendance >= 75:\n",
    "    print(\"Allowed to sit in exam.\")\n",
    "elif medical.upper() == 'Y':\n",
    "    print(\"Allowed due to medical cause.\")\n",
    "else:\n",
    "    print(\"Not allowed to sit in exam.\")\n"
   ]
  },
  {
   "cell_type": "markdown",
   "id": "992abf7f-f539-4c96-a02c-817c9d2f8323",
   "metadata": {},
   "source": [
    "13. Write a program to check if a year is leap year or not.\n",
    "If a year is divisible by 4 then it is leap year but if the year is century year like 2000, 1900, 2100 then it must be divisible by 400."
   ]
  },
  {
   "cell_type": "code",
   "execution_count": 18,
   "id": "f1379759-8f0f-40c8-989f-19fbbb9c7cc7",
   "metadata": {},
   "outputs": [
    {
     "name": "stdin",
     "output_type": "stream",
     "text": [
      "Enter a year:  2030\n"
     ]
    },
    {
     "name": "stdout",
     "output_type": "stream",
     "text": [
      "Not a Leap Year\n"
     ]
    }
   ],
   "source": [
    "year = int(input(\"Enter a year: \"))\n",
    "\n",
    "if (year % 400 == 0) or (year % 4 == 0 and year % 100 != 0):\n",
    "    print(\"Leap Year\")\n",
    "else:\n",
    "    print(\"Not a Leap Year\")\n"
   ]
  },
  {
   "cell_type": "markdown",
   "id": "861d28e3-d6c0-4c0c-a974-b43907a00750",
   "metadata": {},
   "source": [
    "14. Ask user to enter age, gender ( M or F ), marital status ( Y or N ) and then using following rules print their place of service.\n",
    "if employee is female, then she will work only in urban areas.\n",
    "\n",
    "if employee is a male and age is in between 20 to 40 then he may work in anywhere\n",
    "\n",
    "if employee is male and age is in between 40 t0 60 then he will work in urban areas only.\n",
    "\n",
    "And any other input of age should print \"ERROR\""
   ]
  },
  {
   "cell_type": "code",
   "execution_count": 19,
   "id": "73be879d-ce0a-416e-972a-9fb10cb32e5c",
   "metadata": {},
   "outputs": [
    {
     "name": "stdin",
     "output_type": "stream",
     "text": [
      "Enter age:  22\n",
      "Enter gender (M/F):  m\n",
      "Enter marital status (Y/N):  m\n"
     ]
    },
    {
     "name": "stdout",
     "output_type": "stream",
     "text": [
      "He may work anywhere.\n"
     ]
    }
   ],
   "source": [
    "age = int(input(\"Enter age: \"))\n",
    "gender = input(\"Enter gender (M/F): \").upper()\n",
    "marital_status = input(\"Enter marital status (Y/N): \").upper()\n",
    "\n",
    "if gender == 'F':\n",
    "    print(\"She will work only in urban areas.\")\n",
    "elif gender == 'M' and 20 <= age <= 40:\n",
    "    print(\"He may work anywhere.\")\n",
    "elif gender == 'M' and 40 < age <= 60:\n",
    "    print(\"He will work in urban areas only.\")\n",
    "else:\n",
    "    print(\"ERROR\")\n"
   ]
  },
  {
   "cell_type": "markdown",
   "id": "6c7263e0-d82c-43d7-bbb3-f8fe208a2fd0",
   "metadata": {},
   "source": [
    "15. Write a program to calculate the electricity bill (accept number of unit from user) according to the following criteria : Unit Price\n",
    "uptp 100 units no charge Next 200 units Rs 5 per unit After 200 units Rs 10 per unit (For example if input unit is 350 than total bill amount is Rs.3500 (For example if input unit is 97 than total bill amount is Rs.0 (For example if input unit is 150 than total bill amount is Rs.750"
   ]
  },
  {
   "cell_type": "code",
   "execution_count": 21,
   "id": "6991b53d-7801-4b29-aeef-9dae5ad934f5",
   "metadata": {},
   "outputs": [
    {
     "name": "stdin",
     "output_type": "stream",
     "text": [
      "Enter number of units consumed:  333\n"
     ]
    },
    {
     "name": "stdout",
     "output_type": "stream",
     "text": [
      "Total Bill Amount: Rs. 1330\n"
     ]
    }
   ],
   "source": [
    "units = int(input(\"Enter number of units consumed: \"))\n",
    "\n",
    "if units <= 100:\n",
    "    bill = 0\n",
    "elif units <= 300:\n",
    "    bill = (units - 100) * 5\n",
    "else:\n",
    "    bill = (200 * 5) + (units - 300) * 10\n",
    "\n",
    "print(\"Total Bill Amount: Rs.\", bill)\n"
   ]
  },
  {
   "cell_type": "markdown",
   "id": "482adc3d-9878-472e-9faa-16e383b8a3bd",
   "metadata": {},
   "source": [
    "16. Take input of age of 3 people by user and determine oldest and youngest among them."
   ]
  },
  {
   "cell_type": "code",
   "execution_count": 22,
   "id": "2aed12b2-2ae7-483c-a0d5-914ebf88edcf",
   "metadata": {},
   "outputs": [
    {
     "name": "stdin",
     "output_type": "stream",
     "text": [
      "Enter age of first person:  33\n",
      "Enter age of second person:  22\n",
      "Enter age of third person:  55\n"
     ]
    },
    {
     "name": "stdout",
     "output_type": "stream",
     "text": [
      "Oldest is: 55\n",
      "Youngest is: 22\n"
     ]
    }
   ],
   "source": [
    "a = int(input(\"Enter age of first person: \"))\n",
    "b = int(input(\"Enter age of second person: \"))\n",
    "c = int(input(\"Enter age of third person: \"))\n",
    "\n",
    "oldest = max(a, b, c)\n",
    "youngest = min(a, b, c)\n",
    "\n",
    "print(\"Oldest is:\", oldest)\n",
    "print(\"Youngest is:\", youngest)\n"
   ]
  },
  {
   "cell_type": "code",
   "execution_count": null,
   "id": "5f7b048d-f73c-4c32-8eaf-61a86718aa18",
   "metadata": {},
   "outputs": [],
   "source": []
  }
 ],
 "metadata": {
  "kernelspec": {
   "display_name": "Python 3 (ipykernel)",
   "language": "python",
   "name": "python3"
  },
  "language_info": {
   "codemirror_mode": {
    "name": "ipython",
    "version": 3
   },
   "file_extension": ".py",
   "mimetype": "text/x-python",
   "name": "python",
   "nbconvert_exporter": "python",
   "pygments_lexer": "ipython3",
   "version": "3.13.5"
  }
 },
 "nbformat": 4,
 "nbformat_minor": 5
}
