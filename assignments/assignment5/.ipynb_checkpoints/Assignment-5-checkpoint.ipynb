{
 "cells": [
  {
   "cell_type": "markdown",
   "id": "eb949d69-8d1a-44bd-a6fc-6806d0cacc4f",
   "metadata": {},
   "source": [
    "## Sat, Aug 23, 2025"
   ]
  },
  {
   "cell_type": "markdown",
   "id": "70de0074-1230-4103-ba5d-325a514618c7",
   "metadata": {},
   "source": [
    "# Assignment-5 :"
   ]
  },
  {
   "cell_type": "markdown",
   "id": "311a70d9-0e1c-4f69-92ec-28b888170d06",
   "metadata": {},
   "source": [
    "1. Write a Python program to print the numbers from 1 to 10 using a for loop."
   ]
  },
  {
   "cell_type": "code",
   "execution_count": 1,
   "id": "d956f860-0805-48c9-bd15-0fc79b5ed65f",
   "metadata": {},
   "outputs": [
    {
     "name": "stdout",
     "output_type": "stream",
     "text": [
      "1\n",
      "2\n",
      "3\n",
      "4\n",
      "5\n",
      "6\n",
      "7\n",
      "8\n",
      "9\n",
      "10\n"
     ]
    }
   ],
   "source": [
    "for i in range(1, 11):\n",
    "    print(i)"
   ]
  },
  {
   "cell_type": "markdown",
   "id": "d9dedb9a-2dc7-4657-8997-77fb1b5c4e7e",
   "metadata": {},
   "source": [
    "2. Write a Python program to print the numbers from 20 to 1 using a while loop."
   ]
  },
  {
   "cell_type": "code",
   "execution_count": 2,
   "id": "afac64f6-3ab7-4795-8a1d-2e3af40e17b1",
   "metadata": {},
   "outputs": [
    {
     "name": "stdout",
     "output_type": "stream",
     "text": [
      "20\n",
      "19\n",
      "18\n",
      "17\n",
      "16\n",
      "15\n",
      "14\n",
      "13\n",
      "12\n",
      "11\n",
      "10\n",
      "9\n",
      "8\n",
      "7\n",
      "6\n",
      "5\n",
      "4\n",
      "3\n",
      "2\n",
      "1\n"
     ]
    }
   ],
   "source": [
    "i = 20\n",
    "while i >= 1:\n",
    "    print(i)\n",
    "    i -= 1"
   ]
  },
  {
   "cell_type": "markdown",
   "id": "d312b07d-fae5-4bd8-8e85-efff30f7a19f",
   "metadata": {},
   "source": [
    "3. Write a program to print even numbers from 1 to 10."
   ]
  },
  {
   "cell_type": "code",
   "execution_count": 3,
   "id": "5aef84cf-6ce9-4075-8d0c-e6ab5ff92b3d",
   "metadata": {},
   "outputs": [
    {
     "name": "stdout",
     "output_type": "stream",
     "text": [
      "2\n",
      "4\n",
      "6\n",
      "8\n",
      "10\n"
     ]
    }
   ],
   "source": [
    "for i in range(2, 11, 2):\n",
    "    print(i)"
   ]
  },
  {
   "cell_type": "markdown",
   "id": "6719f1fa-e82d-437a-b37e-9fcd2715ccb7",
   "metadata": {},
   "source": [
    "4. Write a program that prompts the user to enter a number n and prints all the numbers from 1 to n"
   ]
  },
  {
   "cell_type": "code",
   "execution_count": 12,
   "id": "e4640b43-a8cf-46f8-87b7-d38d77b4aed9",
   "metadata": {},
   "outputs": [
    {
     "name": "stdin",
     "output_type": "stream",
     "text": [
      "Enter a number:  6\n"
     ]
    },
    {
     "name": "stdout",
     "output_type": "stream",
     "text": [
      "1\n",
      "2\n",
      "3\n",
      "4\n",
      "5\n",
      "6\n"
     ]
    }
   ],
   "source": [
    "n = int(input(\"Enter a number: \"))\n",
    "for i in range(1, n + 1):\n",
    "    print(i)"
   ]
  },
  {
   "cell_type": "markdown",
   "id": "39be5e58-0b26-4aca-91a6-5e4013919ea5",
   "metadata": {},
   "source": [
    "5. Write a program that prompts the user to enter a number n, and then prints all the odd numbers between 1 and n."
   ]
  },
  {
   "cell_type": "code",
   "execution_count": 9,
   "id": "567f1421-356c-4edc-9d11-6f8798d2e20e",
   "metadata": {},
   "outputs": [
    {
     "name": "stdin",
     "output_type": "stream",
     "text": [
      "Enter a number:  10\n"
     ]
    },
    {
     "name": "stdout",
     "output_type": "stream",
     "text": [
      "1\n",
      "3\n",
      "5\n",
      "7\n",
      "9\n"
     ]
    }
   ],
   "source": [
    "n = int(input(\"Enter a number: \"))\n",
    "for i in range(1, n + 1, 2):\n",
    "    print(i)"
   ]
  },
  {
   "cell_type": "markdown",
   "id": "60213769-835e-4772-8b8a-82a57fa7a0d7",
   "metadata": {},
   "source": [
    "6. Write a program that prints 'Happy Birthday!' five times on screen."
   ]
  },
  {
   "cell_type": "code",
   "execution_count": 10,
   "id": "81dd77bd-d401-4626-8c4f-dee9f5fb1eb7",
   "metadata": {},
   "outputs": [
    {
     "name": "stdout",
     "output_type": "stream",
     "text": [
      "Happy Birthday!\n",
      "Happy Birthday!\n",
      "Happy Birthday!\n",
      "Happy Birthday!\n",
      "Happy Birthday!\n"
     ]
    }
   ],
   "source": [
    "for _ in range(5):\n",
    "    print(\"Happy Birthday!\")"
   ]
  },
  {
   "cell_type": "markdown",
   "id": "44e20966-f4af-4569-9415-ae8d4488c03d",
   "metadata": {},
   "source": [
    "7. Write a program that takes a number n as input and generates the first n terms of the series formed by squaring the natural numbers."
   ]
  },
  {
   "cell_type": "code",
   "execution_count": 11,
   "id": "ba6103e8-cf05-4074-a75b-e4e1a42a6432",
   "metadata": {},
   "outputs": [
    {
     "name": "stdin",
     "output_type": "stream",
     "text": [
      "Enter a number:  6\n"
     ]
    },
    {
     "name": "stdout",
     "output_type": "stream",
     "text": [
      "The first 6 terms of the series are:\n",
      "1 4 9 16 25 36 \n"
     ]
    }
   ],
   "source": [
    "n = int(input(\"Enter a number: \"))\n",
    "print(f\"The first {n} terms of the series are:\")\n",
    "for i in range(1, n + 1):\n",
    "    print(i * i, end=\" \")\n",
    "print()"
   ]
  },
  {
   "cell_type": "markdown",
   "id": "b395a81b-0423-4238-8a1b-48546be9379f",
   "metadata": {},
   "source": [
    "8. Write a program that prompts the user to input a number and prints its multiplication table."
   ]
  },
  {
   "cell_type": "code",
   "execution_count": 13,
   "id": "3d6e9b7a-863b-458a-a86e-45a1d5318565",
   "metadata": {},
   "outputs": [
    {
     "name": "stdin",
     "output_type": "stream",
     "text": [
      "Enter a number:  7\n"
     ]
    },
    {
     "name": "stdout",
     "output_type": "stream",
     "text": [
      "7 x 1 = 7\n",
      "7 x 2 = 14\n",
      "7 x 3 = 21\n",
      "7 x 4 = 28\n",
      "7 x 5 = 35\n",
      "7 x 6 = 42\n",
      "7 x 7 = 49\n",
      "7 x 8 = 56\n",
      "7 x 9 = 63\n",
      "7 x 10 = 70\n"
     ]
    }
   ],
   "source": [
    "n = int(input(\"Enter a number: \"))\n",
    "for i in range(1, 11):\n",
    "    print(f\"{n} x {i} = {n * i}\")"
   ]
  },
  {
   "cell_type": "markdown",
   "id": "0365bc03-2075-49d7-8961-92f8203f232a",
   "metadata": {},
   "source": [
    "9. Write a Python program to print the first 8 terms of an arithmetic progression starting with 3 and having a common difference of 4."
   ]
  },
  {
   "cell_type": "code",
   "execution_count": 18,
   "id": "8ed4ec86-c059-49be-a6de-842c2f34e9a5",
   "metadata": {},
   "outputs": [
    {
     "name": "stdout",
     "output_type": "stream",
     "text": [
      "3 7 11 15 19 23 27 31 \n"
     ]
    }
   ],
   "source": [
    "a = 3\n",
    "d = 4\n",
    "for i in range(8):\n",
    "    term = a + i * d\n",
    "    print(term, end=\" \")\n",
    "print()"
   ]
  },
  {
   "cell_type": "markdown",
   "id": "1ad5c11f-a224-4ce1-b42c-051c28dbcc98",
   "metadata": {},
   "source": [
    "10. Write a Python program to print the first 6 terms of a geometric sequence starting with 2 and having a common ratio of 3."
   ]
  },
  {
   "cell_type": "code",
   "execution_count": 19,
   "id": "7aeb7a9a-db12-49e8-8433-26914104c25a",
   "metadata": {},
   "outputs": [
    {
     "name": "stdout",
     "output_type": "stream",
     "text": [
      "2 6 18 54 162 486 \n"
     ]
    }
   ],
   "source": [
    "a = 2\n",
    "r = 3\n",
    "for i in range(6):\n",
    "    term = a * (r ** i)\n",
    "    print(term, end=\" \")\n",
    "print()"
   ]
  },
  {
   "cell_type": "markdown",
   "id": "b7635de4-e53e-4393-80ef-28d3771c1c8a",
   "metadata": {},
   "source": [
    "11. Write a program that asks the user for a positive integer value. The program should calculate the sum of all the integers from 1 up to the number entered. "
   ]
  },
  {
   "cell_type": "code",
   "execution_count": 20,
   "id": "99385fc3-e86e-4717-af31-d63d41480871",
   "metadata": {},
   "outputs": [
    {
     "name": "stdin",
     "output_type": "stream",
     "text": [
      "Enter a positive integer:  22\n"
     ]
    },
    {
     "name": "stdout",
     "output_type": "stream",
     "text": [
      "The sum from 1 to 22 is: 253\n"
     ]
    }
   ],
   "source": [
    "n = int(input(\"Enter a positive integer: \"))\n",
    "total_sum = 0\n",
    "for i in range(1, n + 1):\n",
    "    total_sum += i\n",
    "print(f\"The sum from 1 to {n} is: {total_sum}\")"
   ]
  },
  {
   "cell_type": "markdown",
   "id": "1ab3e163-4c2a-4b85-a3cc-710602708a73",
   "metadata": {},
   "source": [
    "12. Write a program that takes a positive integer n as input and calculates the sum of the reciprocals of all numbers from 1 up to N. The program should display the final sum."
   ]
  },
  {
   "cell_type": "code",
   "execution_count": 21,
   "id": "a0df543e-d4c3-4ba8-8cf6-e4d4ec8aca6b",
   "metadata": {},
   "outputs": [
    {
     "name": "stdin",
     "output_type": "stream",
     "text": [
      "Enter a positive integer:  6\n"
     ]
    },
    {
     "name": "stdout",
     "output_type": "stream",
     "text": [
      "The sum of reciprocals from 1 to 6 is: 2.45\n"
     ]
    }
   ],
   "source": [
    "n = int(input(\"Enter a positive integer: \"))\n",
    "total_sum = 0\n",
    "for i in range(1, n + 1):\n",
    "    total_sum += 1 / i\n",
    "print(f\"The sum of reciprocals from 1 to {n} is: {total_sum:.2f}\")"
   ]
  },
  {
   "cell_type": "markdown",
   "id": "91f4954a-a1ee-45d1-9787-927fe14b9050",
   "metadata": {},
   "source": [
    "13. Write a program that prompts the user to enter a number and repeats this process 5 times. The program should accumulate the numbers entered and then display the final running total."
   ]
  },
  {
   "cell_type": "code",
   "execution_count": 22,
   "id": "4ad198de-b66b-4e11-94db-ca5eda853b05",
   "metadata": {},
   "outputs": [
    {
     "name": "stdin",
     "output_type": "stream",
     "text": [
      "Enter a number:  10\n",
      "Enter a number:  5\n",
      "Enter a number:  55\n",
      "Enter a number:  56\n",
      "Enter a number:  44\n"
     ]
    },
    {
     "name": "stdout",
     "output_type": "stream",
     "text": [
      "The final running total is: 170\n"
     ]
    }
   ],
   "source": [
    "total = 0\n",
    "for i in range(5):\n",
    "    num = int(input(\"Enter a number: \"))\n",
    "    total += num\n",
    "print(f\"The final running total is: {total}\")"
   ]
  },
  {
   "cell_type": "markdown",
   "id": "44c000a7-1437-45a2-b8ee-366edd940568",
   "metadata": {},
   "source": [
    "14. Write a program that prompts the user to enter a positive integer 'n' and calculates its factorial. The factorial of a positive integer 'n!' is denoted as 'n!' and is calculated by multiplying all the integers from 1 to 'n' together."
   ]
  },
  {
   "cell_type": "code",
   "execution_count": 23,
   "id": "09ceb2f9-026b-4fd1-978b-7872931ea1ba",
   "metadata": {},
   "outputs": [
    {
     "name": "stdin",
     "output_type": "stream",
     "text": [
      "Enter a positive integer:  67\n"
     ]
    },
    {
     "name": "stdout",
     "output_type": "stream",
     "text": [
      "The factorial of 67 is: 36471110918188685288249859096605464427167635314049524593701628500267962436943872000000000000000\n"
     ]
    }
   ],
   "source": [
    "n = int(input(\"Enter a positive integer: \"))\n",
    "if n < 0:\n",
    "    print(\"The factorial does not exist for negative numbers.\")\n",
    "elif n == 0:\n",
    "    print(\"The factorial of 0 is 1.\")\n",
    "else:\n",
    "    factorial = 1\n",
    "    for i in range(1, n + 1):\n",
    "        factorial *= i\n",
    "    print(f\"The factorial of {n} is: {factorial}\")"
   ]
  },
  {
   "cell_type": "markdown",
   "id": "46a639a6-2f35-4ddb-b152-16868e358476",
   "metadata": {},
   "source": [
    "15. Write a Python program that prompts the user to enter a base number and an exponent, and then calculates the power of the base to the exponent. The program should not use the exponentiation operator (**) or the math.pow() function. The program should handle both positive and negative exponents."
   ]
  },
  {
   "cell_type": "code",
   "execution_count": 24,
   "id": "f4686469-13d1-4fe0-bec6-f4b64f8833cf",
   "metadata": {},
   "outputs": [
    {
     "name": "stdin",
     "output_type": "stream",
     "text": [
      "Enter a base number:  2\n",
      "Enter an exponent:  3\n"
     ]
    },
    {
     "name": "stdout",
     "output_type": "stream",
     "text": [
      "2.0 to the power of 3 is: 8.0\n"
     ]
    }
   ],
   "source": [
    "base = float(input(\"Enter a base number: \"))\n",
    "exponent = int(input(\"Enter an exponent: \"))\n",
    "result = 1\n",
    "\n",
    "if exponent == 0:\n",
    "    result = 1\n",
    "elif exponent > 0:\n",
    "    for _ in range(exponent):\n",
    "        result *= base\n",
    "else:  # exponent is negative\n",
    "    for _ in range(abs(exponent)):\n",
    "        result /= base\n",
    "\n",
    "print(f\"{base} to the power of {exponent} is: {result}\")"
   ]
  },
  {
   "cell_type": "code",
   "execution_count": null,
   "id": "f0c3c8f7-9ae0-4ce2-a300-04112ebbb9f6",
   "metadata": {},
   "outputs": [],
   "source": []
  }
 ],
 "metadata": {
  "kernelspec": {
   "display_name": "Python 3 (ipykernel)",
   "language": "python",
   "name": "python3"
  },
  "language_info": {
   "codemirror_mode": {
    "name": "ipython",
    "version": 3
   },
   "file_extension": ".py",
   "mimetype": "text/x-python",
   "name": "python",
   "nbconvert_exporter": "python",
   "pygments_lexer": "ipython3",
   "version": "3.13.5"
  }
 },
 "nbformat": 4,
 "nbformat_minor": 5
}
